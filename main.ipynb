{
 "cells": [
  {
   "cell_type": "markdown",
   "metadata": {},
   "source": [
    "# Import Libraries"
   ]
  },
  {
   "cell_type": "code",
   "execution_count": 1,
   "metadata": {
    "executionInfo": {
     "elapsed": 382,
     "status": "ok",
     "timestamp": 1744286163067,
     "user": {
      "displayName": "Duc Anh Vu",
      "userId": "06352880851071176581"
     },
     "user_tz": -420
    },
    "id": "kFaqLIOuMSoo"
   },
   "outputs": [],
   "source": [
    "import sys\n",
    "import os\n",
    "import pandas as pd\n",
    "import numpy as np"
   ]
  },
  {
   "cell_type": "code",
   "execution_count": 2,
   "metadata": {},
   "outputs": [],
   "source": [
    "project_root = os.path.abspath(os.getcwd())\n",
    "if project_root not in sys.path:\n",
    "    sys.path.append(project_root)"
   ]
  },
  {
   "cell_type": "code",
   "execution_count": 3,
   "metadata": {},
   "outputs": [],
   "source": [
    "from utils.data_processor import DataProcessor\n",
    "from utils.data_fetcher import DataFetcher\n",
    "from utils.config import anthropic_llm\n",
    "from utils.prompt_chain import generate_reports\n",
    "# from utils.prompt_eval import run_evaluation\n",
    "import random"
   ]
  },
  {
   "cell_type": "markdown",
   "metadata": {},
   "source": [
    "# Data Processing"
   ]
  },
  {
   "cell_type": "code",
   "execution_count": 4,
   "metadata": {
    "executionInfo": {
     "elapsed": 2,
     "status": "ok",
     "timestamp": 1744286163084,
     "user": {
      "displayName": "Duc Anh Vu",
      "userId": "06352880851071176581"
     },
     "user_tz": -420
    },
    "id": "6ivgD0kKQW6V"
   },
   "outputs": [],
   "source": [
    "# Get data path, input and output file name\n",
    "data_path = os.path.join(project_root, \"data\")\n",
    "input_file = \"ai-insights_full.csv\"\n",
    "output_file = \"transactions.csv\"\n",
    "\n",
    "# Uncomment if needed to re-process the data\n",
    "# data_processor = DataProcessor(data_path, input_file)\n",
    "# data_processor.process()"
   ]
  },
  {
   "cell_type": "code",
   "execution_count": 5,
   "metadata": {},
   "outputs": [],
   "source": [
    "# Initialize DataFetcher\n",
    "data_fetcher = DataFetcher(os.path.join(data_path, output_file))"
   ]
  },
  {
   "cell_type": "markdown",
   "metadata": {},
   "source": [
    "# Main function"
   ]
  },
  {
   "cell_type": "code",
   "execution_count": 6,
   "metadata": {},
   "outputs": [],
   "source": [
    "# Target year and month\n",
    "target_year = 2025\n",
    "target_month = 4\n",
    "\n",
    "# Get active users base on define criteria\n",
    "active_users_april = data_fetcher.get_segment_users(\n",
    "    year=target_year,\n",
    "    month=target_month,\n",
    "    min_transactions=3,\n",
    "    max_users=50,\n",
    "    min_spend=0,\n",
    "    min_cash_in=0\n",
    ")"
   ]
  },
  {
   "cell_type": "code",
   "execution_count": 7,
   "metadata": {},
   "outputs": [
    {
     "name": "stdout",
     "output_type": "stream",
     "text": [
      "{'PROFESSIONAL_HUSTLERS, LOAN_AND_GAMING, PRUDENT_PLANNERS': ['4568e61b-9a82-49d6-8537-3280c5529993', 'dbf4aa26-9c24-4277-a2c0-2acadc73c75f', 'a5ea6d99-219c-47b5-97a4-d7fbe7410774', '7ac824f1-2f0e-4642-ae0c-6259662b2eee', '76f1e01a-ef54-4a53-bd89-9bbaf86ab5e8'], 'LOAN_AND_GAMING, PRUDENT_PLANNERS': ['bde8f512-2eb7-492f-ab8f-b80b80c1cb86', '2659a76b-8570-48e1-949e-da440cbc1a8b', '0f3d1c3c-90d0-4376-b091-699b48e760a9', '048d242c-4cfa-4b8e-830f-ea85f31b9e43', 'c08ad69f-6e5d-41eb-a74e-391d98f6dd60'], 'PROFESSIONAL_HUSTLERS, PRUDENT_PLANNERS, LOAN_AND_GAMING': ['b2bb13c2-8d1f-4893-b97f-eba4b1c9907a', '66132c5b-8ee5-4275-9f22-c75308f304ae', '15e9f2d3-72f3-4ec3-81c0-1be30fa78fc7', '00a8b4f5-3c2a-4bba-a1ff-bb59c2efdb2e', '1543efbf-0450-4a37-aaae-4cf4fa77d0f7'], 'LUSH_DRINKERS': ['55136585-9c0d-4216-8b7f-13b73451bf5d', '56bdba78-8219-475b-be25-d1493bab1d46', 'cbf689a0-ffaa-4a93-aaca-1b714c719c05', 'b28a3140-cdb1-4e11-ae2a-e639043a0e2a', 'ed639697-dd69-4bbf-b761-166d69d5e9e8'], 'HOBBYIST, PRUDENT_PLANNERS': ['88e02097-9b63-4713-b902-8d140045ea05', '4f5d65ae-e740-4a2f-8cd5-664b06c32a59', '4f9090db-391e-451e-9297-8a253338ebb9', 'f86138ec-cfdc-4000-a877-90de0272e833', 'cdb2dce9-f64d-48fd-8755-2d6116b96dd4']}\n"
     ]
    }
   ],
   "source": [
    "segment_chosen_users = {}\n",
    "# Select randomly 5 users from each segment\n",
    "for segment, user_id in active_users_april.items():\n",
    "    segment_chosen_users[segment] = random.sample(user_id, 5)\n",
    "print(segment_chosen_users)"
   ]
  },
  {
   "cell_type": "code",
   "execution_count": 33,
   "metadata": {},
   "outputs": [],
   "source": [
    "# Reload the module\n",
    "import importlib\n",
    "import utils.prompt_chain\n",
    "importlib.reload(utils.prompt_chain)\n",
    "\n",
    "# Import the updated function\n",
    "from utils.prompt_chain import generate_reports"
   ]
  },
  {
   "cell_type": "code",
   "execution_count": 34,
   "metadata": {},
   "outputs": [
    {
     "name": "stdout",
     "output_type": "stream",
     "text": [
      "Generating reports for user 4568e61b-9a82-49d6-8537-3280c5529993...\n",
      "Generating zero-shot report...\n"
     ]
    }
   ],
   "source": [
    "user_lst = ['4568e61b-9a82-49d6-8537-3280c5529993']\n",
    "\n",
    "generate_reports(anthropic_llm(), data_fetcher, target_year, target_month, user_lst)            \n",
    " "
   ]
  },
  {
   "cell_type": "code",
   "execution_count": 10,
   "metadata": {},
   "outputs": [
    {
     "ename": "NameError",
     "evalue": "name 'prompt_evaluation' is not defined",
     "output_type": "error",
     "traceback": [
      "\u001b[0;31m---------------------------------------------------------------------------\u001b[0m",
      "\u001b[0;31mNameError\u001b[0m                                 Traceback (most recent call last)",
      "Cell \u001b[0;32mIn[10], line 1\u001b[0m\n\u001b[0;32m----> 1\u001b[0m results, best_approaches \u001b[38;5;241m=\u001b[39m prompt_evaluation(\n\u001b[1;32m      2\u001b[0m     llm\u001b[38;5;241m=\u001b[39manthropic_llm,\n\u001b[1;32m      3\u001b[0m     chains\u001b[38;5;241m=\u001b[39mexecutive_summary_chains,\n\u001b[1;32m      4\u001b[0m     data_fetcher\u001b[38;5;241m=\u001b[39mdata_fetcher,\n\u001b[1;32m      5\u001b[0m     year\u001b[38;5;241m=\u001b[39mtarget_year,\n\u001b[1;32m      6\u001b[0m     month\u001b[38;5;241m=\u001b[39mtarget_month,\n\u001b[1;32m      7\u001b[0m     user_id\u001b[38;5;241m=\u001b[39m\u001b[38;5;124m\"\u001b[39m\u001b[38;5;124md962c87b-e29c-41f0-8f04-5f5e9df339ab\u001b[39m\u001b[38;5;124m\"\u001b[39m\n\u001b[1;32m      8\u001b[0m )\n",
      "\u001b[0;31mNameError\u001b[0m: name 'prompt_evaluation' is not defined"
     ]
    }
   ],
   "source": [
    "results, best_approaches = prompt_evaluation(\n",
    "    llm=anthropic_llm,\n",
    "    chains=executive_summary_chains,\n",
    "    data_fetcher=data_fetcher,\n",
    "    year=target_year,\n",
    "    month=target_month,\n",
    "    user_id=\"d962c87b-e29c-41f0-8f04-5f5e9df339ab\"\n",
    ")"
   ]
  }
 ],
 "metadata": {
  "colab": {
   "authorship_tag": "ABX9TyPFGLjQuf50OvZ8DYqqQEDe",
   "gpuType": "A100",
   "machine_shape": "hm",
   "provenance": []
  },
  "kernelspec": {
   "display_name": "Python (capstoneproject)",
   "language": "python",
   "name": "capstoneproject"
  },
  "language_info": {
   "codemirror_mode": {
    "name": "ipython",
    "version": 3
   },
   "file_extension": ".py",
   "mimetype": "text/x-python",
   "name": "python",
   "nbconvert_exporter": "python",
   "pygments_lexer": "ipython3",
   "version": "3.11.11"
  }
 },
 "nbformat": 4,
 "nbformat_minor": 0
}
