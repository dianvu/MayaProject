{
 "cells": [
  {
   "cell_type": "markdown",
   "metadata": {},
   "source": [
    "# Import Libraries"
   ]
  },
  {
   "cell_type": "code",
   "execution_count": 1,
   "metadata": {
    "executionInfo": {
     "elapsed": 382,
     "status": "ok",
     "timestamp": 1744286163067,
     "user": {
      "displayName": "Duc Anh Vu",
      "userId": "06352880851071176581"
     },
     "user_tz": -420
    },
    "id": "kFaqLIOuMSoo"
   },
   "outputs": [],
   "source": [
    "import os\n",
    "import sys\n",
    "import calendar\n",
    "project_root = os.path.abspath(os.getcwd())\n",
    "if project_root not in sys.path:\n",
    "    sys.path.append(project_root)"
   ]
  },
  {
   "cell_type": "code",
   "execution_count": 2,
   "metadata": {},
   "outputs": [
    {
     "name": "stderr",
     "output_type": "stream",
     "text": [
      "/opt/anaconda3/envs/capstoneproject/lib/python3.11/site-packages/tqdm/auto.py:21: TqdmWarning: IProgress not found. Please update jupyter and ipywidgets. See https://ipywidgets.readthedocs.io/en/stable/user_install.html\n",
      "  from .autonotebook import tqdm as notebook_tqdm\n"
     ]
    }
   ],
   "source": [
    "# Project modules\n",
    "from utils.data_processor import DataProcessor\n",
    "from utils.data_fetcher import DataFetcher\n",
    "from utils.report_generator import ReportGenerator\n",
    "from utils.config import anthropic_llm"
   ]
  },
  {
   "cell_type": "markdown",
   "metadata": {},
   "source": [
    "# Data Processing"
   ]
  },
  {
   "cell_type": "code",
   "execution_count": 3,
   "metadata": {
    "executionInfo": {
     "elapsed": 2,
     "status": "ok",
     "timestamp": 1744286163084,
     "user": {
      "displayName": "Duc Anh Vu",
      "userId": "06352880851071176581"
     },
     "user_tz": -420
    },
    "id": "6ivgD0kKQW6V"
   },
   "outputs": [],
   "source": [
    "# Get raw data path, input file name\n",
    "raw_data_path = os.path.join(project_root, \"raw_data\")\n",
    "input_file = os.path.join(raw_data_path, \"ai-insights_full.csv\")\n",
    "\n",
    "# Get data path, output file name\n",
    "data_path = os.path.join(project_root, \"data\")\n",
    "output_file = os.path.join(data_path, \"transactions.csv\")\n",
    "\n",
    "# Uncomment if needed to re-process the data\n",
    "# data_processor = DataProcessor(input_file, output_file)\n",
    "# data_processor.process()"
   ]
  },
  {
   "cell_type": "code",
   "execution_count": 4,
   "metadata": {},
   "outputs": [],
   "source": [
    "# Initialize DataFetcher\n",
    "data_fetcher = DataFetcher(output_file)\n",
    "\n",
    "# Load csv to db, uncomment if not already done\n",
    "# data_fetcher._load_csv_to_db()"
   ]
  },
  {
   "cell_type": "markdown",
   "metadata": {},
   "source": [
    "# Main function"
   ]
  },
  {
   "cell_type": "code",
   "execution_count": 5,
   "metadata": {},
   "outputs": [],
   "source": [
    "# Target year and month\n",
    "target_year = 2025\n",
    "target_month = 4\n",
    "\n",
    "# Get active users base on define criteria\n",
    "# user_lst = data_fetcher.active_users(\n",
    "#     year=target_year,\n",
    "#     month=target_month,\n",
    "#     min_transactions=5,\n",
    "#     max_users=1,\n",
    "#     min_spend=0,\n",
    "#     min_cash_in=0\n",
    "# )"
   ]
  },
  {
   "cell_type": "code",
   "execution_count": 10,
   "metadata": {},
   "outputs": [],
   "source": [
    "# Reload the module\n",
    "import importlib\n",
    "import utils.report_generator\n",
    "importlib.reload(utils.report_generator)\n",
    "\n",
    "# Import the updated function\n",
    "from utils.report_generator import ReportGenerator"
   ]
  },
  {
   "cell_type": "code",
   "execution_count": null,
   "metadata": {},
   "outputs": [
    {
     "name": "stdout",
     "output_type": "stream",
     "text": [
      "\n",
      "Generating report for User 0e4c4356-e669-4954-87d9-603acd09c80d...\n",
      "Final report for 0e4c4356-e669-4954-87d9-603acd09c80d saved in 'reports/2025/April/'\n"
     ]
    }
   ],
   "source": [
    "# Initialize LLM Model\n",
    "llm = anthropic_llm()\n",
    "\n",
    "# List of user to generate report\n",
    "user_lst = ['0e4c4356-e669-4954-87d9-603acd09c80d']\n",
    "\n",
    "# Generate reports\n",
    "for user_id in user_lst:\n",
    "    # Fetch Monthly Profile (Transaction Summary)\n",
    "    transaction_summary = data_fetcher.monthly_profile(target_year, target_month, user_id)\n",
    "\n",
    "    # Initialize Report Generator for this user and period\n",
    "    report_generator = ReportGenerator(llm, user_id, target_year, target_month)\n",
    "\n",
    "    # Generate Report with best approach\n",
    "    print(f\"\\nGenerating report for User {user_id}...\")\n",
    "    final_report = report_generator.generate_report(transaction_summary)\n",
    "\n",
    "    # Save Report to JSON format\n",
    "    report_generator.save_report(report=final_report, output_folder=\"reports\")\n",
    "    month_name_str = calendar.month_name[target_month]\n",
    "    print(f\"Final report for {user_id} saved in 'reports/{target_year}/{month_name_str}/'\")"
   ]
  }
 ],
 "metadata": {
  "colab": {
   "authorship_tag": "ABX9TyPFGLjQuf50OvZ8DYqqQEDe",
   "gpuType": "A100",
   "machine_shape": "hm",
   "provenance": []
  },
  "kernelspec": {
   "display_name": "Python (capstoneproject)",
   "language": "python",
   "name": "capstoneproject"
  },
  "language_info": {
   "codemirror_mode": {
    "name": "ipython",
    "version": 3
   },
   "file_extension": ".py",
   "mimetype": "text/x-python",
   "name": "python",
   "nbconvert_exporter": "python",
   "pygments_lexer": "ipython3",
   "version": "3.11.11"
  }
 },
 "nbformat": 4,
 "nbformat_minor": 0
}
