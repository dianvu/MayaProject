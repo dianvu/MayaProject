{
 "cells": [
  {
   "cell_type": "markdown",
   "metadata": {},
   "source": [
    "# Import Libraries"
   ]
  },
  {
   "cell_type": "code",
   "execution_count": 1,
   "metadata": {
    "executionInfo": {
     "elapsed": 382,
     "status": "ok",
     "timestamp": 1744286163067,
     "user": {
      "displayName": "Duc Anh Vu",
      "userId": "06352880851071176581"
     },
     "user_tz": -420
    },
    "id": "kFaqLIOuMSoo"
   },
   "outputs": [],
   "source": [
    "import os\n",
    "import sys\n",
    "import calendar\n",
    "project_root = os.path.abspath(os.getcwd())\n",
    "if project_root not in sys.path:\n",
    "    sys.path.append(project_root)"
   ]
  },
  {
   "cell_type": "code",
   "execution_count": 2,
   "metadata": {},
   "outputs": [
    {
     "name": "stderr",
     "output_type": "stream",
     "text": [
      "/opt/anaconda3/envs/capstoneproject/lib/python3.11/site-packages/tqdm/auto.py:21: TqdmWarning: IProgress not found. Please update jupyter and ipywidgets. See https://ipywidgets.readthedocs.io/en/stable/user_install.html\n",
      "  from .autonotebook import tqdm as notebook_tqdm\n"
     ]
    }
   ],
   "source": [
    "# Project modules\n",
    "from utils.data_processor import DataProcessor\n",
    "from utils.data_fetcher import DataFetcher\n",
    "from utils.report_generator import ReportGenerator\n",
    "from utils.config import anthropic_llm"
   ]
  },
  {
   "cell_type": "markdown",
   "metadata": {},
   "source": [
    "# Data Processing"
   ]
  },
  {
   "cell_type": "code",
   "execution_count": 3,
   "metadata": {
    "executionInfo": {
     "elapsed": 2,
     "status": "ok",
     "timestamp": 1744286163084,
     "user": {
      "displayName": "Duc Anh Vu",
      "userId": "06352880851071176581"
     },
     "user_tz": -420
    },
    "id": "6ivgD0kKQW6V"
   },
   "outputs": [],
   "source": [
    "# Get raw data path, input file name\n",
    "raw_data_path = os.path.join(project_root, \"raw_data\")\n",
    "input_file = os.path.join(raw_data_path, \"ai-insights_full.csv\")\n",
    "\n",
    "# Get data path, output file name\n",
    "data_path = os.path.join(project_root, \"data\")\n",
    "output_file = os.path.join(data_path, \"transactions.csv\")\n",
    "db = os.path.join(data_path, \"transactions.db\")\n",
    "\n",
    "# Uncomment if needed to re-process the data\n",
    "# data_processor = DataProcessor(input_file, output_file)\n",
    "# data_processor.process()"
   ]
  },
  {
   "cell_type": "code",
   "execution_count": 6,
   "metadata": {},
   "outputs": [],
   "source": [
    "# Initialize DataFetcher\n",
    "data_fetcher = DataFetcher(output_file, db)"
   ]
  },
  {
   "cell_type": "markdown",
   "metadata": {},
   "source": [
    "# Main function"
   ]
  },
  {
   "cell_type": "code",
   "execution_count": 8,
   "metadata": {},
   "outputs": [],
   "source": [
    "# Target year and month\n",
    "target_year = 2025\n",
    "target_month = 3\n",
    "\n",
    "# # Get active users base on define criteria\n",
    "# user_lst = data_fetcher.active_users(\n",
    "#     year=target_year,\n",
    "#     month=target_month,\n",
    "#     min_transactions=5,\n",
    "#     max_users=50,\n",
    "#     min_spend=0,\n",
    "#     min_cash_in=0\n",
    "# )"
   ]
  },
  {
   "cell_type": "code",
   "execution_count": 9,
   "metadata": {},
   "outputs": [],
   "source": [
    "# Reload the module\n",
    "import importlib\n",
    "import utils.report_generator\n",
    "importlib.reload(utils.report_generator)\n",
    "\n",
    "# Import the updated function\n",
    "from utils.report_generator import ReportGenerator"
   ]
  },
  {
   "cell_type": "markdown",
   "metadata": {},
   "source": []
  },
  {
   "cell_type": "code",
   "execution_count": 19,
   "metadata": {},
   "outputs": [
    {
     "name": "stdout",
     "output_type": "stream",
     "text": [
      "User f08ca316-2c5e-46f4-9679-fffa6fe207e1 monthly transactions Summary (Timestamp: 2025-03)\n",
      "- Total spend is 766630.34 with 868 transactions\n",
      "- Spending methods include bank transfer with 18.99%, bills payment with 4.41%, pay with maya with 6.00%, qr with 70.18%, send money with 0.43%\n",
      "- Total cash-in is 743390.23 with 1095 transactions\n",
      "- Cash-in methods include bank pull with 0.04%, bank transfer with 21.70%, loan service with 2.64%, mini apps with 72.09%, send money with 3.52%\n",
      "- User tags: lush drinkers, loan and gaming, prudent planners\n",
      "\n",
      "\n",
      "\n",
      "Generating report for User f08ca316-2c5e-46f4-9679-fffa6fe207e1...\n",
      "Final report for f08ca316-2c5e-46f4-9679-fffa6fe207e1 saved in 'reports/2025/March/'\n",
      "\n",
      "\n",
      "User 23804aa1-c4df-496b-a31d-99a2d856d52e monthly transactions Summary (Timestamp: 2025-03)\n",
      "- Total spend is 147960.53 with 265 transactions\n",
      "- Spending methods include bank transfer with 0.47%, bills payment with 25.41%, maya shop with 0.00%, pay with maya with 0.60%, qr with 26.03%, send money with 47.47%, top-up (fee) with 0.01%\n",
      "- Total cash-in is 150621.27 with 134 transactions\n",
      "- Cash-in methods include bank transfer with 25.01%, loan service with 10.67%, send money with 64.25%, top-up with 0.07%\n",
      "- User tags: lush drinkers, loan and gaming, prudent planners\n",
      "\n",
      "\n",
      "\n",
      "Generating report for User 23804aa1-c4df-496b-a31d-99a2d856d52e...\n",
      "Final report for 23804aa1-c4df-496b-a31d-99a2d856d52e saved in 'reports/2025/March/'\n",
      "\n",
      "\n",
      "User 94e3ef32-59c7-4150-a243-40d38060a1b5 monthly transactions Summary (Timestamp: 2025-03)\n",
      "- Total spend is 15180.86 with 330 transactions\n",
      "- Spending methods include bank transfer with 25.72%, bills payment with 0.44%, maya shop with 0.57%, pay with maya with 5.80%, qr with 13.26%, send money with 54.05%, top-up (fee) with 0.16%\n",
      "- Total cash-in is 11547.69 with 99 transactions\n",
      "- Cash-in methods include bank transfer with 9.99%, mini apps with 20.07%, send money with 57.57%, top-up with 12.37%\n",
      "- User tags: lush drinkers, loan and gaming, prudent planners\n",
      "\n",
      "\n",
      "\n",
      "Generating report for User 94e3ef32-59c7-4150-a243-40d38060a1b5...\n",
      "Final report for 94e3ef32-59c7-4150-a243-40d38060a1b5 saved in 'reports/2025/March/'\n",
      "\n",
      "\n"
     ]
    }
   ],
   "source": [
    "# Initialize LLM Model\n",
    "llm = anthropic_llm()\n",
    "\n",
    "user_lst = [\"f08ca316-2c5e-46f4-9679-fffa6fe207e1\",\n",
    "\"23804aa1-c4df-496b-a31d-99a2d856d52e\",\n",
    "\"94e3ef32-59c7-4150-a243-40d38060a1b5\"]\n",
    "\n",
    "# Generate reports\n",
    "for user_id in user_lst:\n",
    "    # Fetch Monthly Profile (Transaction Summary)\n",
    "    transaction_summary = data_fetcher.monthly_profile(target_year, target_month, user_id)\n",
    "    print(transaction_summary)\n",
    "    print(\"\\n\")\n",
    "\n",
    "    # Initialize Report Generator for this user and period\n",
    "    report_generator = ReportGenerator(llm, user_id, target_year, target_month)\n",
    "\n",
    "    # Generate Report with best approach\n",
    "    print(f\"\\nGenerating report for User {user_id}...\")\n",
    "    final_report = report_generator.generate_report(transaction_summary)\n",
    "\n",
    "    # Save Report to JSON format\n",
    "    report_generator.save_report(report=final_report, output_folder=\"reports\")\n",
    "    month_name_str = calendar.month_name[target_month]\n",
    "    print(f\"Final report for {user_id} saved in 'reports/{target_year}/{month_name_str}/'\")\n",
    "    print(\"\\n\")"
   ]
  }
 ],
 "metadata": {
  "colab": {
   "authorship_tag": "ABX9TyPFGLjQuf50OvZ8DYqqQEDe",
   "gpuType": "A100",
   "machine_shape": "hm",
   "provenance": []
  },
  "kernelspec": {
   "display_name": "Python (capstoneproject)",
   "language": "python",
   "name": "capstoneproject"
  },
  "language_info": {
   "codemirror_mode": {
    "name": "ipython",
    "version": 3
   },
   "file_extension": ".py",
   "mimetype": "text/x-python",
   "name": "python",
   "nbconvert_exporter": "python",
   "pygments_lexer": "ipython3",
   "version": "3.11.11"
  }
 },
 "nbformat": 4,
 "nbformat_minor": 0
}
