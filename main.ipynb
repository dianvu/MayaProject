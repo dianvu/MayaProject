{
 "cells": [
  {
   "cell_type": "markdown",
   "metadata": {},
   "source": [
    "# Import Libraries"
   ]
  },
  {
   "cell_type": "code",
   "execution_count": 1,
   "metadata": {
    "executionInfo": {
     "elapsed": 382,
     "status": "ok",
     "timestamp": 1744286163067,
     "user": {
      "displayName": "Duc Anh Vu",
      "userId": "06352880851071176581"
     },
     "user_tz": -420
    },
    "id": "kFaqLIOuMSoo"
   },
   "outputs": [],
   "source": [
    "import sys\n",
    "import os\n",
    "import pandas as pd\n",
    "import numpy as np"
   ]
  },
  {
   "cell_type": "code",
   "execution_count": 2,
   "metadata": {},
   "outputs": [],
   "source": [
    "project_root = os.path.abspath(os.getcwd())\n",
    "if project_root not in sys.path:\n",
    "    sys.path.append(project_root)"
   ]
  },
  {
   "cell_type": "code",
   "execution_count": 3,
   "metadata": {},
   "outputs": [],
   "source": [
    "from utils.data_processor import DataProcessor\n",
    "from utils.data_fetcher import DataFetcher\n",
    "from utils.config import anthropic_llm\n",
    "from utils.prompt_chain import get_executive_summary, create_chains"
   ]
  },
  {
   "cell_type": "markdown",
   "metadata": {},
   "source": [
    "# Data Processing"
   ]
  },
  {
   "cell_type": "code",
   "execution_count": 4,
   "metadata": {
    "executionInfo": {
     "elapsed": 2,
     "status": "ok",
     "timestamp": 1744286163084,
     "user": {
      "displayName": "Duc Anh Vu",
      "userId": "06352880851071176581"
     },
     "user_tz": -420
    },
    "id": "6ivgD0kKQW6V"
   },
   "outputs": [],
   "source": [
    "# Get data path, input and output file name\n",
    "data_path = os.path.join(project_root, \"data\")\n",
    "input_file = \"ai-insights_full.csv\"\n",
    "output_file = \"transactions.csv\"\n",
    "\n",
    "# Uncomment if needed to re-process the data\n",
    "# data_processor = DataProcessor(data_path, input_file)\n",
    "# data_processor.process()"
   ]
  },
  {
   "cell_type": "code",
   "execution_count": 5,
   "metadata": {},
   "outputs": [],
   "source": [
    "# Initialize DataFetcher\n",
    "data_fetcher = DataFetcher(os.path.join(data_path, output_file))"
   ]
  },
  {
   "cell_type": "markdown",
   "metadata": {},
   "source": [
    "# Main function"
   ]
  },
  {
   "cell_type": "code",
   "execution_count": 6,
   "metadata": {},
   "outputs": [],
   "source": [
    "# Initialize the LLM and chains\n",
    "anthropic_llm = anthropic_llm()\n",
    "\n",
    "## Executive summary Component\n",
    "executive_summary_prompts = get_executive_summary()\n",
    "executive_summary_chains = create_chains(anthropic_llm, executive_summary_prompts)"
   ]
  },
  {
   "cell_type": "code",
   "execution_count": 8,
   "metadata": {},
   "outputs": [
    {
     "ename": "AttributeError",
     "evalue": "'DataFetcher' object has no attribute 'active_users'",
     "output_type": "error",
     "traceback": [
      "\u001b[31m---------------------------------------------------------------------------\u001b[39m",
      "\u001b[31mAttributeError\u001b[39m                            Traceback (most recent call last)",
      "\u001b[36mCell\u001b[39m\u001b[36m \u001b[39m\u001b[32mIn[8]\u001b[39m\u001b[32m, line 9\u001b[39m\n\u001b[32m      6\u001b[39m target_month = \u001b[32m4\u001b[39m\n\u001b[32m      8\u001b[39m \u001b[38;5;66;03m# Get active users base on define criteria\u001b[39;00m\n\u001b[32m----> \u001b[39m\u001b[32m9\u001b[39m active_users = data_fetcher.active_users(\n\u001b[32m     10\u001b[39m     year=target_year,\n\u001b[32m     11\u001b[39m     month=target_month,\n\u001b[32m     12\u001b[39m     min_transactions=\u001b[32m3\u001b[39m,\n\u001b[32m     13\u001b[39m     max_users=\u001b[32m1000\u001b[39m,\n\u001b[32m     14\u001b[39m     min_spend=\u001b[32m0\u001b[39m,\n\u001b[32m     15\u001b[39m     min_cash_in=\u001b[32m0\u001b[39m\n\u001b[32m     16\u001b[39m )\n\u001b[32m     17\u001b[39m \u001b[38;5;28mprint\u001b[39m(\u001b[33mf\u001b[39m\u001b[33m\"\u001b[39m\u001b[33mFound \u001b[39m\u001b[38;5;132;01m{\u001b[39;00m\u001b[38;5;28mlen\u001b[39m(active_users)\u001b[38;5;132;01m}\u001b[39;00m\u001b[33m active users out of \u001b[39m\u001b[38;5;132;01m{\u001b[39;00m\u001b[38;5;28mlen\u001b[39m(data_fetcher.user_ids)\u001b[38;5;132;01m}\u001b[39;00m\u001b[33m\"\u001b[39m)\n\u001b[32m     19\u001b[39m \u001b[38;5;66;03m# Generate and print each prompt components for each user\u001b[39;00m\n",
      "\u001b[31mAttributeError\u001b[39m: 'DataFetcher' object has no attribute 'active_users'"
     ]
    }
   ],
   "source": [
    "# Get unique user IDs\n",
    "user_ids = data_fetcher.user_ids\n",
    "\n",
    "# Target year and month\n",
    "target_year = 2025\n",
    "target_month = 4\n",
    "\n",
    "# Get active users base on define criteria\n",
    "active_users = data_fetcher.active_users(\n",
    "    year=target_year,\n",
    "    month=target_month,\n",
    "    min_transactions=3,\n",
    "    max_users=1000,\n",
    "    min_spend=0,\n",
    "    min_cash_in=0\n",
    ")\n",
    "print(f\"Found {len(active_users)} active users out of {len(data_fetcher.user_ids)}\")\n",
    "\n",
    "# Generate and print each prompt components for each user\n",
    "for user_id in active_users:\n",
    "    user_monthly_profile = data_fetcher.monthly_profile(\n",
    "        year=target_year,\n",
    "        month=target_month,\n",
    "        user_id=user_id\n",
    "    )\n",
    "    print(f\"\\n{user_monthly_profile}\")"
   ]
  },
  {
   "cell_type": "code",
   "execution_count": 6,
   "metadata": {},
   "outputs": [],
   "source": [
    "input_data = {\"transaction_summary\": user_monthly_profile}"
   ]
  },
  {
   "cell_type": "markdown",
   "metadata": {},
   "source": [
    "### Zero-shot"
   ]
  },
  {
   "cell_type": "code",
   "execution_count": null,
   "metadata": {},
   "outputs": [],
   "source": [
    "# zero_shot_result = executive_summary_chains[\"zero_shot\"].invoke(input_data)\n",
    "# result_message = list(zero_shot_result.values())[0]\n",
    "# print(\"Zero-shot Executive Summary:\")\n",
    "# print(result_message.content)"
   ]
  },
  {
   "cell_type": "markdown",
   "metadata": {},
   "source": [
    "### Few-shot"
   ]
  },
  {
   "cell_type": "code",
   "execution_count": null,
   "metadata": {},
   "outputs": [
    {
     "name": "stdout",
     "output_type": "stream",
     "text": [
      "Few-shot Executive Summary:\n",
      "You spent 70% of your income in April, with most transactions going to send money (50%) and QR payments (37.5%). While your spending is high relative to cash inflow, you maintained a positive balance, aligning with your prudent planner profile.\n"
     ]
    }
   ],
   "source": [
    "# few_shot_result = executive_summary_chains[\"few_shot\"].invoke(input_data)\n",
    "# result_message = list(few_shot_result.values())[0]\n",
    "# print(\"Few-shot Executive Summary:\")\n",
    "# print(result_message.content)"
   ]
  },
  {
   "cell_type": "markdown",
   "metadata": {},
   "source": [
    "### Chain-of-Though"
   ]
  },
  {
   "cell_type": "code",
   "execution_count": 18,
   "metadata": {},
   "outputs": [
    {
     "name": "stdout",
     "output_type": "stream",
     "text": [
      "CoT Executive Summary:\n",
      "# Executive Summary: User d962c87b-e29c (April 2025)\n",
      "\n",
      "The user, categorized as both a \"professional hustler\" and \"prudent planner,\" demonstrated balanced financial behavior in April 2025. They received ₱965.54 through 4 cash-in transactions (75% via bank transfers) while spending ₱680.42 across 8 transactions. Their spending pattern shows heavy reliance on person-to-person transfers (50% via send money) and QR payments (37.5%), with minimal retail activity through Maya Shop (12.5%).\n",
      "\n",
      "Notable is their spending restraint, using only 70.47% of available funds, which aligns with their \"prudent planner\" classification despite also being tagged with \"loan and gaming\" behaviors. The significant bank transfer deposits and frequent money transfers suggest this user may be managing funds across multiple platforms or for various purposes.\n"
     ]
    }
   ],
   "source": [
    "# cot_result = executive_summary_chains[\"chain_of_thought\"].invoke(input_data)\n",
    "# result_message = list(cot_result.values())[0]\n",
    "# print(\"CoT Executive Summary:\")\n",
    "# print(result_message.content)"
   ]
  }
 ],
 "metadata": {
  "colab": {
   "authorship_tag": "ABX9TyPFGLjQuf50OvZ8DYqqQEDe",
   "gpuType": "A100",
   "machine_shape": "hm",
   "provenance": []
  },
  "kernelspec": {
   "display_name": "Python (capstoneproject)",
   "language": "python",
   "name": "capstoneproject"
  },
  "language_info": {
   "codemirror_mode": {
    "name": "ipython",
    "version": 3
   },
   "file_extension": ".py",
   "mimetype": "text/x-python",
   "name": "python",
   "nbconvert_exporter": "python",
   "pygments_lexer": "ipython3",
   "version": "3.11.11"
  }
 },
 "nbformat": 4,
 "nbformat_minor": 0
}
